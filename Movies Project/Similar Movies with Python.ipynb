{
 "cells": [
  {
   "cell_type": "code",
   "execution_count": 2,
   "id": "dab39cb7",
   "metadata": {},
   "outputs": [],
   "source": [
    "# import libraries\n",
    "import pandas as pd\n",
    "from sklearn.feature_extraction.text import CountVectorizer\n",
    "from sklearn.metrics.pairwise import cosine_similarity"
   ]
  },
  {
   "cell_type": "code",
   "execution_count": null,
   "id": "269c22f3",
   "metadata": {},
   "outputs": [],
   "source": [
    "# import movie keywords\n",
    "movie_keywords=pd.read_csv('movie_keywords_v2.csv')"
   ]
  },
  {
   "cell_type": "code",
   "execution_count": null,
   "id": "75ca2cd4",
   "metadata": {},
   "outputs": [],
   "source": [
    "movie_keywords.head()"
   ]
  },
  {
   "cell_type": "code",
   "execution_count": null,
   "id": "dec3f0c6",
   "metadata": {},
   "outputs": [],
   "source": [
    "# find similar movies by determining which unique words are present in the keywords for each movie\n",
    "results_v1={}\n",
    "for i in range(len(movie_keywords)):\n",
    "    results={}\n",
    "    for i2 in range(len(movie_keywords)):\n",
    "        if i!=i2:\n",
    "            i_kws=movie_keywords.iloc[i]['keywords'].split(',')\n",
    "            i2_kws=movie_keywords.iloc[i2]['keywords'].split(',')\n",
    "            results[movie_keywords.iloc[i2]['title']]=len(i_kws+i2_kws)-len(set(i_kws+i2_kws))\n",
    "    print(movie_keywords.iloc[i]['title'])\n",
    "    tl=[]\n",
    "    for k,v in results.items():\n",
    "        if v>3:\n",
    "            if v==max(results.values()):\n",
    "                tl.append(k)\n",
    "    results_v1[movie_keywords.iloc[i]['title']]=tl"
   ]
  },
  {
   "cell_type": "code",
   "execution_count": null,
   "id": "9622c912",
   "metadata": {},
   "outputs": [],
   "source": [
    "results_1=pd.from_dict([results_v1])"
   ]
  },
  {
   "cell_type": "code",
   "execution_count": null,
   "id": "746ec0c1",
   "metadata": {},
   "outputs": [],
   "source": [
    "results_1=results_1.transpose()"
   ]
  },
  {
   "cell_type": "code",
   "execution_count": null,
   "id": "4b7296f0",
   "metadata": {},
   "outputs": [],
   "source": [
    "results_1.rename(columns={'index':'title',0:'similar'},inplace=True)"
   ]
  },
  {
   "cell_type": "code",
   "execution_count": 6,
   "id": "e5134e04",
   "metadata": {},
   "outputs": [],
   "source": [
    "results_1.drop(columns='Unnamed: 0',inplace=True)"
   ]
  },
  {
   "cell_type": "code",
   "execution_count": 10,
   "id": "830b2385",
   "metadata": {},
   "outputs": [
    {
     "data": {
      "text/html": [
       "<div>\n",
       "<style scoped>\n",
       "    .dataframe tbody tr th:only-of-type {\n",
       "        vertical-align: middle;\n",
       "    }\n",
       "\n",
       "    .dataframe tbody tr th {\n",
       "        vertical-align: top;\n",
       "    }\n",
       "\n",
       "    .dataframe thead th {\n",
       "        text-align: right;\n",
       "    }\n",
       "</style>\n",
       "<table border=\"1\" class=\"dataframe\">\n",
       "  <thead>\n",
       "    <tr style=\"text-align: right;\">\n",
       "      <th></th>\n",
       "      <th>titles</th>\n",
       "      <th>similar</th>\n",
       "    </tr>\n",
       "  </thead>\n",
       "  <tbody>\n",
       "    <tr>\n",
       "      <th>0</th>\n",
       "      <td>#Horror</td>\n",
       "      <td>['Amnesiac', 'Boogeyman', 'Goddess of Love', '...</td>\n",
       "    </tr>\n",
       "    <tr>\n",
       "      <th>1</th>\n",
       "      <td>(500) Days of Summer</td>\n",
       "      <td>['Summer Catch']</td>\n",
       "    </tr>\n",
       "    <tr>\n",
       "      <th>2</th>\n",
       "      <td>...E tu vivrai nel terrore! L'aldilà</td>\n",
       "      <td>[\"The Brain That Wouldn't Die\", 'The Midnight ...</td>\n",
       "    </tr>\n",
       "    <tr>\n",
       "      <th>3</th>\n",
       "      <td>10 Cloverfield Lane</td>\n",
       "      <td>['Breakdown', 'Frequency', 'Room', 'Southland ...</td>\n",
       "    </tr>\n",
       "    <tr>\n",
       "      <th>4</th>\n",
       "      <td>10 Things I Hate About You</td>\n",
       "      <td>['High School Musical 3: Senior Year']</td>\n",
       "    </tr>\n",
       "  </tbody>\n",
       "</table>\n",
       "</div>"
      ],
      "text/plain": [
       "                                 titles  \\\n",
       "0                               #Horror   \n",
       "1                  (500) Days of Summer   \n",
       "2  ...E tu vivrai nel terrore! L'aldilà   \n",
       "3                   10 Cloverfield Lane   \n",
       "4            10 Things I Hate About You   \n",
       "\n",
       "                                             similar  \n",
       "0  ['Amnesiac', 'Boogeyman', 'Goddess of Love', '...  \n",
       "1                                   ['Summer Catch']  \n",
       "2  [\"The Brain That Wouldn't Die\", 'The Midnight ...  \n",
       "3  ['Breakdown', 'Frequency', 'Room', 'Southland ...  \n",
       "4             ['High School Musical 3: Senior Year']  "
      ]
     },
     "execution_count": 10,
     "metadata": {},
     "output_type": "execute_result"
    }
   ],
   "source": [
    "results_1.head()"
   ]
  },
  {
   "cell_type": "code",
   "execution_count": null,
   "id": "47c541c0",
   "metadata": {},
   "outputs": [],
   "source": [
    "# find similar movies by using count vectorizer and cosine to identify movies that have at least 40% similarity in keywords\n",
    "results_v2={}\n",
    "for i in range(len(movie_keywords)):\n",
    "    tl=[]\n",
    "    print(movie_keywords.iloc[i]['title'])\n",
    "    for i2 in range(len(movie_keywords)):\n",
    "        if i!=i2:\n",
    "            compare=[movie_keywords.iloc[i]['keywords'],movie_keywords.iloc[i2]['keywords']]\n",
    "            cMatrix=CountVectorizer().fit_transform(compare)\n",
    "            matPercent=cosine_similarity(cMatrix)[0][1] * 100\n",
    "            matPercent=round(matPercent, 2) # round to two decimal\n",
    "            if matPercent>40.0:\n",
    "                tl.append(movie_keywords.iloc[i2]['title'])\n",
    "    results_v2[movie_keywords.iloc[i]['title']]=tl"
   ]
  },
  {
   "cell_type": "code",
   "execution_count": null,
   "id": "45117f47",
   "metadata": {},
   "outputs": [],
   "source": [
    "results_2=pd.from_dict([results_v2])"
   ]
  },
  {
   "cell_type": "code",
   "execution_count": null,
   "id": "304f231d",
   "metadata": {},
   "outputs": [],
   "source": [
    "results_2=results_2.transpose()"
   ]
  },
  {
   "cell_type": "code",
   "execution_count": null,
   "id": "3793b71f",
   "metadata": {},
   "outputs": [],
   "source": [
    "results_2.rename(columns={'index':'title',0:'similar'},inplace=True)"
   ]
  },
  {
   "cell_type": "code",
   "execution_count": null,
   "id": "0ae7cc0a",
   "metadata": {},
   "outputs": [],
   "source": [
    "results_2.drop(columns='Unnamed: 0',inplace=True)"
   ]
  },
  {
   "cell_type": "code",
   "execution_count": 14,
   "id": "91da0d68",
   "metadata": {},
   "outputs": [
    {
     "data": {
      "text/html": [
       "<div>\n",
       "<style scoped>\n",
       "    .dataframe tbody tr th:only-of-type {\n",
       "        vertical-align: middle;\n",
       "    }\n",
       "\n",
       "    .dataframe tbody tr th {\n",
       "        vertical-align: top;\n",
       "    }\n",
       "\n",
       "    .dataframe thead th {\n",
       "        text-align: right;\n",
       "    }\n",
       "</style>\n",
       "<table border=\"1\" class=\"dataframe\">\n",
       "  <thead>\n",
       "    <tr style=\"text-align: right;\">\n",
       "      <th></th>\n",
       "      <th>title</th>\n",
       "      <th>similar</th>\n",
       "    </tr>\n",
       "  </thead>\n",
       "  <tbody>\n",
       "    <tr>\n",
       "      <th>0</th>\n",
       "      <td>#Horror</td>\n",
       "      <td>['$upercapitalist', '10th &amp; Wolf', '12 Rounds'...</td>\n",
       "    </tr>\n",
       "    <tr>\n",
       "      <th>1</th>\n",
       "      <td>$upercapitalist</td>\n",
       "      <td>['#Horror', '2:13', '8 Days', \"A Beginner's Gu...</td>\n",
       "    </tr>\n",
       "    <tr>\n",
       "      <th>2</th>\n",
       "      <td>(500) Days of Summer</td>\n",
       "      <td>['How to Be a Player']</td>\n",
       "    </tr>\n",
       "    <tr>\n",
       "      <th>3</th>\n",
       "      <td>[REC]²</td>\n",
       "      <td>[\"Devil's Due\", 'Dreamcatcher', 'Paranormal Ac...</td>\n",
       "    </tr>\n",
       "    <tr>\n",
       "      <th>4</th>\n",
       "      <td>10 Cloverfield Lane</td>\n",
       "      <td>['All Superheroes Must Die', 'Containment', 'C...</td>\n",
       "    </tr>\n",
       "  </tbody>\n",
       "</table>\n",
       "</div>"
      ],
      "text/plain": [
       "                  title                                            similar\n",
       "0               #Horror  ['$upercapitalist', '10th & Wolf', '12 Rounds'...\n",
       "1       $upercapitalist  ['#Horror', '2:13', '8 Days', \"A Beginner's Gu...\n",
       "2  (500) Days of Summer                             ['How to Be a Player']\n",
       "3                [REC]²  [\"Devil's Due\", 'Dreamcatcher', 'Paranormal Ac...\n",
       "4   10 Cloverfield Lane  ['All Superheroes Must Die', 'Containment', 'C..."
      ]
     },
     "execution_count": 14,
     "metadata": {},
     "output_type": "execute_result"
    }
   ],
   "source": [
    "results_2.head()"
   ]
  },
  {
   "cell_type": "code",
   "execution_count": null,
   "id": "cc424ab4",
   "metadata": {},
   "outputs": [],
   "source": []
  }
 ],
 "metadata": {
  "kernelspec": {
   "display_name": "Python 3 (ipykernel)",
   "language": "python",
   "name": "python3"
  },
  "language_info": {
   "codemirror_mode": {
    "name": "ipython",
    "version": 3
   },
   "file_extension": ".py",
   "mimetype": "text/x-python",
   "name": "python",
   "nbconvert_exporter": "python",
   "pygments_lexer": "ipython3",
   "version": "3.10.9"
  }
 },
 "nbformat": 4,
 "nbformat_minor": 5
}
