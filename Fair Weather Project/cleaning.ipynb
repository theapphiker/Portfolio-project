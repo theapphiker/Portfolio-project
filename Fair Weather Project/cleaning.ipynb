{
 "cells": [
  {
   "cell_type": "code",
   "execution_count": 1,
   "id": "fe335ae0",
   "metadata": {},
   "outputs": [],
   "source": [
    "# import the necessary libraries\n",
    "import pandas as pd"
   ]
  },
  {
   "cell_type": "code",
   "execution_count": 2,
   "id": "06dc946f",
   "metadata": {},
   "outputs": [],
   "source": [
    "# import CSV with dates between 1960 and 1980\n",
    "old_weather1 = pd.read_csv(\n",
    "    r\"C:\\Users\\syast\\OneDrive\\Documents\\Data Analysis Practice\\Fair Weather Project\\data\\bloom_weather_1960_1980.csv\"\n",
    ")"
   ]
  },
  {
   "cell_type": "code",
   "execution_count": 3,
   "id": "9df78bea",
   "metadata": {},
   "outputs": [],
   "source": [
    "# drop all rows that contain NaN\n",
    "old_weather1 = old_weather1.dropna()"
   ]
  },
  {
   "cell_type": "code",
   "execution_count": 4,
   "id": "feca9ed6",
   "metadata": {},
   "outputs": [],
   "source": [
    "old_weather1[\"DATE\"] = pd.to_datetime(old_weather1[\"DATE\"])"
   ]
  },
  {
   "cell_type": "code",
   "execution_count": 5,
   "id": "595dafd6",
   "metadata": {},
   "outputs": [],
   "source": [
    "# select only the dates between September 22 and October 3 - approximately the dates of the fair each year\n",
    "old_weather1 = old_weather1[\n",
    "    ((old_weather1[\"DATE\"].dt.month == 9) & (old_weather1[\"DATE\"].dt.day >= 22))\n",
    "    | ((old_weather1[\"DATE\"].dt.month == 10) & (old_weather1[\"DATE\"].dt.day <= 3))\n",
    "]"
   ]
  },
  {
   "cell_type": "code",
   "execution_count": 6,
   "id": "aa00f535",
   "metadata": {},
   "outputs": [],
   "source": [
    "# select only the 'MILLVILLE 2 SW, PA US' Station because it is the only Station that recorded data for every day\n",
    "old_weather1 = old_weather1[old_weather1[\"NAME\"] == \"MILLVILLE 2 SW, PA US\"]"
   ]
  },
  {
   "cell_type": "code",
   "execution_count": 7,
   "id": "5b198d69",
   "metadata": {},
   "outputs": [],
   "source": [
    "# output dataframe to new csv\n",
    "old_weather1.to_csv(\n",
    "    r\"C:\\Users\\syast\\OneDrive\\Documents\\Data Analysis Practice\\Fair Weather Project\\data\\old_weather_cleaned.csv\"\n",
    ")"
   ]
  },
  {
   "cell_type": "code",
   "execution_count": 8,
   "id": "cc3cee72",
   "metadata": {},
   "outputs": [],
   "source": [
    "# import CSV with dates between 2002 and 2022\n",
    "new_weather1 = pd.read_csv(\n",
    "    r\"C:\\Users\\syast\\OneDrive\\Documents\\Data Analysis Practice\\Fair Weather Project\\data\\bloom_weather_2000_2023.csv\"\n",
    ")"
   ]
  },
  {
   "cell_type": "code",
   "execution_count": 9,
   "id": "adf242f7",
   "metadata": {},
   "outputs": [],
   "source": [
    "# drop any rows that contain NaN\n",
    "new_weather1 = new_weather1.dropna()"
   ]
  },
  {
   "cell_type": "code",
   "execution_count": 10,
   "id": "735d8c20",
   "metadata": {},
   "outputs": [],
   "source": [
    "# convert DATE column to datetime\n",
    "new_weather1[\"DATE\"] = pd.to_datetime(new_weather1[\"DATE\"])"
   ]
  },
  {
   "cell_type": "code",
   "execution_count": 11,
   "id": "dd263b8a",
   "metadata": {},
   "outputs": [],
   "source": [
    "# select only the dates between September 22 and October 3 - approximately the dates of the fair each year\n",
    "new_weather1 = new_weather1[\n",
    "    ((new_weather1[\"DATE\"].dt.month == 9) & (new_weather1[\"DATE\"].dt.day >= 22))\n",
    "    | ((new_weather1[\"DATE\"].dt.month == 10) & (new_weather1[\"DATE\"].dt.day <= 3))\n",
    "]"
   ]
  },
  {
   "cell_type": "code",
   "execution_count": 12,
   "id": "107a5800",
   "metadata": {},
   "outputs": [
    {
     "data": {
      "text/html": [
       "<div>\n",
       "<style scoped>\n",
       "    .dataframe tbody tr th:only-of-type {\n",
       "        vertical-align: middle;\n",
       "    }\n",
       "\n",
       "    .dataframe tbody tr th {\n",
       "        vertical-align: top;\n",
       "    }\n",
       "\n",
       "    .dataframe thead th {\n",
       "        text-align: right;\n",
       "    }\n",
       "</style>\n",
       "<table border=\"1\" class=\"dataframe\">\n",
       "  <thead>\n",
       "    <tr style=\"text-align: right;\">\n",
       "      <th></th>\n",
       "      <th>STATION</th>\n",
       "      <th>NAME</th>\n",
       "      <th>DATE</th>\n",
       "      <th>TMAX</th>\n",
       "      <th>TMIN</th>\n",
       "    </tr>\n",
       "  </thead>\n",
       "  <tbody>\n",
       "    <tr>\n",
       "      <th>7328</th>\n",
       "      <td>USC00360457</td>\n",
       "      <td>BEAR GAP, PA US</td>\n",
       "      <td>2008-09-22</td>\n",
       "      <td>68.0</td>\n",
       "      <td>51.0</td>\n",
       "    </tr>\n",
       "    <tr>\n",
       "      <th>7329</th>\n",
       "      <td>USC00360457</td>\n",
       "      <td>BEAR GAP, PA US</td>\n",
       "      <td>2008-09-23</td>\n",
       "      <td>72.0</td>\n",
       "      <td>43.0</td>\n",
       "    </tr>\n",
       "    <tr>\n",
       "      <th>7330</th>\n",
       "      <td>USC00360457</td>\n",
       "      <td>BEAR GAP, PA US</td>\n",
       "      <td>2008-09-24</td>\n",
       "      <td>75.0</td>\n",
       "      <td>43.0</td>\n",
       "    </tr>\n",
       "    <tr>\n",
       "      <th>7331</th>\n",
       "      <td>USC00360457</td>\n",
       "      <td>BEAR GAP, PA US</td>\n",
       "      <td>2008-09-25</td>\n",
       "      <td>67.0</td>\n",
       "      <td>44.0</td>\n",
       "    </tr>\n",
       "    <tr>\n",
       "      <th>7332</th>\n",
       "      <td>USC00360457</td>\n",
       "      <td>BEAR GAP, PA US</td>\n",
       "      <td>2008-09-26</td>\n",
       "      <td>64.0</td>\n",
       "      <td>50.0</td>\n",
       "    </tr>\n",
       "  </tbody>\n",
       "</table>\n",
       "</div>"
      ],
      "text/plain": [
       "          STATION             NAME       DATE  TMAX  TMIN\n",
       "7328  USC00360457  BEAR GAP, PA US 2008-09-22  68.0  51.0\n",
       "7329  USC00360457  BEAR GAP, PA US 2008-09-23  72.0  43.0\n",
       "7330  USC00360457  BEAR GAP, PA US 2008-09-24  75.0  43.0\n",
       "7331  USC00360457  BEAR GAP, PA US 2008-09-25  67.0  44.0\n",
       "7332  USC00360457  BEAR GAP, PA US 2008-09-26  64.0  50.0"
      ]
     },
     "execution_count": 12,
     "metadata": {},
     "output_type": "execute_result"
    }
   ],
   "source": [
    "# examine the data\n",
    "new_weather1.head()"
   ]
  },
  {
   "cell_type": "code",
   "execution_count": 13,
   "id": "5b309313",
   "metadata": {},
   "outputs": [
    {
     "data": {
      "text/plain": [
       "array(['BEAR GAP, PA US', 'BLOOMSBURG UNIVERSITY, PA US'], dtype=object)"
      ]
     },
     "execution_count": 13,
     "metadata": {},
     "output_type": "execute_result"
    }
   ],
   "source": [
    "new_weather1[\"NAME\"].unique()"
   ]
  },
  {
   "cell_type": "code",
   "execution_count": 14,
   "id": "50a621fe",
   "metadata": {},
   "outputs": [
    {
     "data": {
      "text/plain": [
       "Timestamp('2023-10-01 00:00:00')"
      ]
     },
     "execution_count": 14,
     "metadata": {},
     "output_type": "execute_result"
    }
   ],
   "source": [
    "max(new_weather1[new_weather1[\"NAME\"] == \"BEAR GAP, PA US\"][\"DATE\"])"
   ]
  },
  {
   "cell_type": "code",
   "execution_count": 15,
   "id": "c3c5497f",
   "metadata": {},
   "outputs": [
    {
     "data": {
      "text/plain": [
       "Timestamp('2017-10-03 00:00:00')"
      ]
     },
     "execution_count": 15,
     "metadata": {},
     "output_type": "execute_result"
    }
   ],
   "source": [
    "max(new_weather1[new_weather1[\"NAME\"] == \"BLOOMSBURG UNIVERSITY, PA US\"][\"DATE\"])"
   ]
  },
  {
   "cell_type": "code",
   "execution_count": 16,
   "id": "e23559c2",
   "metadata": {},
   "outputs": [
    {
     "data": {
      "text/plain": [
       "Timestamp('2013-09-22 00:00:00')"
      ]
     },
     "execution_count": 16,
     "metadata": {},
     "output_type": "execute_result"
    }
   ],
   "source": [
    "# find first date that the Bloomsburg University Station has data\n",
    "min(new_weather1[new_weather1[\"NAME\"] == \"BLOOMSBURG UNIVERSITY, PA US\"][\"DATE\"])"
   ]
  },
  {
   "cell_type": "code",
   "execution_count": 17,
   "id": "236f5d99",
   "metadata": {},
   "outputs": [],
   "source": [
    "# filter Bear Gap Station data to only data collected before Bloomsburg University Station collected data\n",
    "bear_gap_weather = new_weather1[\n",
    "    (new_weather1[\"NAME\"] == \"BEAR GAP, PA US\") & (new_weather1[\"DATE\"] < \"2013-09-22\")\n",
    "]"
   ]
  },
  {
   "cell_type": "code",
   "execution_count": 18,
   "id": "09e703e9",
   "metadata": {},
   "outputs": [],
   "source": [
    "# Bloomsburg University data\n",
    "bloom_u_weather = new_weather1[new_weather1[\"NAME\"] == \"BLOOMSBURG UNIVERSITY, PA US\"]"
   ]
  },
  {
   "cell_type": "code",
   "execution_count": 19,
   "id": "7f86ef11",
   "metadata": {},
   "outputs": [],
   "source": [
    "new_df = pd.concat([bear_gap_weather, bloom_u_weather])"
   ]
  },
  {
   "cell_type": "code",
   "execution_count": 20,
   "id": "665008dd",
   "metadata": {},
   "outputs": [],
   "source": [
    "new_df.reset_index(inplace=True)"
   ]
  },
  {
   "cell_type": "code",
   "execution_count": 21,
   "id": "aa147e64",
   "metadata": {},
   "outputs": [],
   "source": [
    "new_df.drop(\"index\", axis=1, inplace=True)"
   ]
  },
  {
   "cell_type": "code",
   "execution_count": 22,
   "id": "854e3e50",
   "metadata": {},
   "outputs": [],
   "source": [
    "# output dataframe to new csv\n",
    "new_df.to_csv(\n",
    "    r\"C:\\Users\\syast\\OneDrive\\Documents\\Data Analysis Practice\\Fair Weather Project\\data\\new_weather_cleaned_v2.csv\"\n",
    ")"
   ]
  },
  {
   "cell_type": "code",
   "execution_count": 23,
   "id": "6c58edc1",
   "metadata": {},
   "outputs": [
    {
     "data": {
      "text/html": [
       "<div>\n",
       "<style scoped>\n",
       "    .dataframe tbody tr th:only-of-type {\n",
       "        vertical-align: middle;\n",
       "    }\n",
       "\n",
       "    .dataframe tbody tr th {\n",
       "        vertical-align: top;\n",
       "    }\n",
       "\n",
       "    .dataframe thead th {\n",
       "        text-align: right;\n",
       "    }\n",
       "</style>\n",
       "<table border=\"1\" class=\"dataframe\">\n",
       "  <thead>\n",
       "    <tr style=\"text-align: right;\">\n",
       "      <th></th>\n",
       "      <th>STATION</th>\n",
       "      <th>NAME</th>\n",
       "      <th>DATE</th>\n",
       "      <th>TMAX</th>\n",
       "      <th>TMIN</th>\n",
       "    </tr>\n",
       "  </thead>\n",
       "  <tbody>\n",
       "    <tr>\n",
       "      <th>0</th>\n",
       "      <td>USC00360457</td>\n",
       "      <td>BEAR GAP, PA US</td>\n",
       "      <td>2008-09-22</td>\n",
       "      <td>68.0</td>\n",
       "      <td>51.0</td>\n",
       "    </tr>\n",
       "    <tr>\n",
       "      <th>1</th>\n",
       "      <td>USC00360457</td>\n",
       "      <td>BEAR GAP, PA US</td>\n",
       "      <td>2008-09-23</td>\n",
       "      <td>72.0</td>\n",
       "      <td>43.0</td>\n",
       "    </tr>\n",
       "    <tr>\n",
       "      <th>2</th>\n",
       "      <td>USC00360457</td>\n",
       "      <td>BEAR GAP, PA US</td>\n",
       "      <td>2008-09-24</td>\n",
       "      <td>75.0</td>\n",
       "      <td>43.0</td>\n",
       "    </tr>\n",
       "    <tr>\n",
       "      <th>3</th>\n",
       "      <td>USC00360457</td>\n",
       "      <td>BEAR GAP, PA US</td>\n",
       "      <td>2008-09-25</td>\n",
       "      <td>67.0</td>\n",
       "      <td>44.0</td>\n",
       "    </tr>\n",
       "    <tr>\n",
       "      <th>4</th>\n",
       "      <td>USC00360457</td>\n",
       "      <td>BEAR GAP, PA US</td>\n",
       "      <td>2008-09-26</td>\n",
       "      <td>64.0</td>\n",
       "      <td>50.0</td>\n",
       "    </tr>\n",
       "  </tbody>\n",
       "</table>\n",
       "</div>"
      ],
      "text/plain": [
       "       STATION             NAME       DATE  TMAX  TMIN\n",
       "0  USC00360457  BEAR GAP, PA US 2008-09-22  68.0  51.0\n",
       "1  USC00360457  BEAR GAP, PA US 2008-09-23  72.0  43.0\n",
       "2  USC00360457  BEAR GAP, PA US 2008-09-24  75.0  43.0\n",
       "3  USC00360457  BEAR GAP, PA US 2008-09-25  67.0  44.0\n",
       "4  USC00360457  BEAR GAP, PA US 2008-09-26  64.0  50.0"
      ]
     },
     "execution_count": 23,
     "metadata": {},
     "output_type": "execute_result"
    }
   ],
   "source": [
    "new_df.head()"
   ]
  },
  {
   "cell_type": "code",
   "execution_count": null,
   "id": "93dbc4e7",
   "metadata": {},
   "outputs": [],
   "source": []
  }
 ],
 "metadata": {
  "kernelspec": {
   "display_name": "Python 3 (ipykernel)",
   "language": "python",
   "name": "python3"
  },
  "language_info": {
   "codemirror_mode": {
    "name": "ipython",
    "version": 3
   },
   "file_extension": ".py",
   "mimetype": "text/x-python",
   "name": "python",
   "nbconvert_exporter": "python",
   "pygments_lexer": "ipython3",
   "version": "3.10.9"
  }
 },
 "nbformat": 4,
 "nbformat_minor": 5
}
